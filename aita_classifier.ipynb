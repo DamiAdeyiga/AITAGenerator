{
 "cells": [
  {
   "cell_type": "code",
   "execution_count": 1,
   "id": "4f9e9294-7295-4adc-a428-da691337c467",
   "metadata": {},
   "outputs": [
    {
     "name": "stdout",
     "output_type": "stream",
     "text": [
      "Requirement already satisfied: imbalanced-learn in c:\\users\\public\\downloads\\anaconda3\\lib\\site-packages (0.10.1)\n",
      "Requirement already satisfied: scipy>=1.3.2 in c:\\users\\public\\downloads\\anaconda3\\lib\\site-packages (from imbalanced-learn) (1.9.3)\n",
      "Requirement already satisfied: numpy>=1.17.3 in c:\\users\\public\\downloads\\anaconda3\\lib\\site-packages (from imbalanced-learn) (1.24.3)\n",
      "Requirement already satisfied: scikit-learn>=1.0.2 in c:\\users\\public\\downloads\\anaconda3\\lib\\site-packages (from imbalanced-learn) (1.0.2)\n",
      "Requirement already satisfied: joblib>=1.1.1 in c:\\users\\public\\downloads\\anaconda3\\lib\\site-packages (from imbalanced-learn) (1.1.1)\n",
      "Requirement already satisfied: threadpoolctl>=2.0.0 in c:\\users\\public\\downloads\\anaconda3\\lib\\site-packages (from imbalanced-learn) (2.2.0)\n"
     ]
    },
    {
     "name": "stderr",
     "output_type": "stream",
     "text": [
      "[nltk_data] Downloading package stopwords to\n",
      "[nltk_data]     C:\\Users\\da476/nltk_data...\n",
      "[nltk_data]   Package stopwords is already up-to-date!\n",
      "[nltk_data] Downloading package wordnet to C:\\Users\\da476/nltk_data...\n",
      "[nltk_data]   Package wordnet is already up-to-date!\n"
     ]
    },
    {
     "data": {
      "text/html": [
       "<div>\n",
       "<style scoped>\n",
       "    .dataframe tbody tr th:only-of-type {\n",
       "        vertical-align: middle;\n",
       "    }\n",
       "\n",
       "    .dataframe tbody tr th {\n",
       "        vertical-align: top;\n",
       "    }\n",
       "\n",
       "    .dataframe thead th {\n",
       "        text-align: right;\n",
       "    }\n",
       "</style>\n",
       "<table border=\"1\" class=\"dataframe\">\n",
       "  <thead>\n",
       "    <tr style=\"text-align: right;\">\n",
       "      <th></th>\n",
       "      <th>id</th>\n",
       "      <th>timestamp</th>\n",
       "      <th>title</th>\n",
       "      <th>body</th>\n",
       "      <th>edited</th>\n",
       "      <th>verdict</th>\n",
       "      <th>score</th>\n",
       "      <th>num_comments</th>\n",
       "      <th>is_asshole</th>\n",
       "      <th>combined_text</th>\n",
       "    </tr>\n",
       "  </thead>\n",
       "  <tbody>\n",
       "    <tr>\n",
       "      <th>0</th>\n",
       "      <td>eqeu87</td>\n",
       "      <td>1.579343e+09</td>\n",
       "      <td>AITA for raging at family game night?</td>\n",
       "      <td>My family and I played a casual game of Trivia...</td>\n",
       "      <td>False</td>\n",
       "      <td>asshole</td>\n",
       "      <td>15</td>\n",
       "      <td>60.0</td>\n",
       "      <td>1</td>\n",
       "      <td>AITA for raging at family game night? My famil...</td>\n",
       "    </tr>\n",
       "    <tr>\n",
       "      <th>1</th>\n",
       "      <td>c1a8rl</td>\n",
       "      <td>1.560694e+09</td>\n",
       "      <td>AITA for not saying Happy Fathers Day to my st...</td>\n",
       "      <td>he’s been in my life since i was 10 but we’ve ...</td>\n",
       "      <td>False</td>\n",
       "      <td>not the asshole</td>\n",
       "      <td>4</td>\n",
       "      <td>15.0</td>\n",
       "      <td>0</td>\n",
       "      <td>AITA for not saying Happy Fathers Day to my st...</td>\n",
       "    </tr>\n",
       "    <tr>\n",
       "      <th>2</th>\n",
       "      <td>cmf3u0</td>\n",
       "      <td>1.565031e+09</td>\n",
       "      <td>AITA for wanting the rug shaken outside?</td>\n",
       "      <td>I was cleaning the bathroom floor and my frien...</td>\n",
       "      <td>False</td>\n",
       "      <td>not the asshole</td>\n",
       "      <td>3</td>\n",
       "      <td>26.0</td>\n",
       "      <td>0</td>\n",
       "      <td>AITA for wanting the rug shaken outside? I was...</td>\n",
       "    </tr>\n",
       "    <tr>\n",
       "      <th>3</th>\n",
       "      <td>b5vis1</td>\n",
       "      <td>1.553636e+09</td>\n",
       "      <td>AITA for saying \"i dont care\" to my one year old?</td>\n",
       "      <td>My girlfriend and i were getting ready to go t...</td>\n",
       "      <td>1553636452.0</td>\n",
       "      <td>no assholes here</td>\n",
       "      <td>6</td>\n",
       "      <td>18.0</td>\n",
       "      <td>0</td>\n",
       "      <td>AITA for saying \"i dont care\" to my one year o...</td>\n",
       "    </tr>\n",
       "    <tr>\n",
       "      <th>4</th>\n",
       "      <td>ewv765</td>\n",
       "      <td>1.580506e+09</td>\n",
       "      <td>AITA for calling mall security when a woman le...</td>\n",
       "      <td>I just read the AITA from November about leavi...</td>\n",
       "      <td>False</td>\n",
       "      <td>not the asshole</td>\n",
       "      <td>134</td>\n",
       "      <td>77.0</td>\n",
       "      <td>0</td>\n",
       "      <td>AITA for calling mall security when a woman le...</td>\n",
       "    </tr>\n",
       "  </tbody>\n",
       "</table>\n",
       "</div>"
      ],
      "text/plain": [
       "       id     timestamp                                              title  \\\n",
       "0  eqeu87  1.579343e+09              AITA for raging at family game night?   \n",
       "1  c1a8rl  1.560694e+09  AITA for not saying Happy Fathers Day to my st...   \n",
       "2  cmf3u0  1.565031e+09           AITA for wanting the rug shaken outside?   \n",
       "3  b5vis1  1.553636e+09  AITA for saying \"i dont care\" to my one year old?   \n",
       "4  ewv765  1.580506e+09  AITA for calling mall security when a woman le...   \n",
       "\n",
       "                                                body        edited  \\\n",
       "0  My family and I played a casual game of Trivia...         False   \n",
       "1  he’s been in my life since i was 10 but we’ve ...         False   \n",
       "2  I was cleaning the bathroom floor and my frien...         False   \n",
       "3  My girlfriend and i were getting ready to go t...  1553636452.0   \n",
       "4  I just read the AITA from November about leavi...         False   \n",
       "\n",
       "            verdict  score  num_comments  is_asshole  \\\n",
       "0           asshole     15          60.0           1   \n",
       "1   not the asshole      4          15.0           0   \n",
       "2   not the asshole      3          26.0           0   \n",
       "3  no assholes here      6          18.0           0   \n",
       "4   not the asshole    134          77.0           0   \n",
       "\n",
       "                                       combined_text  \n",
       "0  AITA for raging at family game night? My famil...  \n",
       "1  AITA for not saying Happy Fathers Day to my st...  \n",
       "2  AITA for wanting the rug shaken outside? I was...  \n",
       "3  AITA for saying \"i dont care\" to my one year o...  \n",
       "4  AITA for calling mall security when a woman le...  "
      ]
     },
     "execution_count": 1,
     "metadata": {},
     "output_type": "execute_result"
    }
   ],
   "source": [
    "\n",
    "import pandas as pd\n",
    "import re\n",
    "import nltk\n",
    "import numpy as np\n",
    "from sklearn.model_selection import train_test_split\n",
    "from nltk.corpus import stopwords\n",
    "from nltk.stem import WordNetLemmatizer\n",
    "from tensorflow.keras.preprocessing.sequence import pad_sequences\n",
    "from tensorflow.keras.models import Sequential\n",
    "from tensorflow.keras.layers import Embedding, LSTM, Dense, Bidirectional, Dropout\n",
    "from tensorflow.keras.preprocessing.text import Tokenizer\n",
    "#from imblearn.over_sampling import SMOTE\n",
    "from sklearn.model_selection import train_test_split\n",
    "\n",
    "# !pip install transformers\n",
    "\n",
    "# from transformers import pipeline\n",
    "\n",
    "\n",
    "\n",
    "\n",
    "\n",
    "nltk.download('stopwords')\n",
    "nltk.download('wordnet')\n",
    "\n",
    "# Load the dataset\n",
    "df = pd.read_csv('X:/home/comp creativity/AITA generator/aita_clean.csv', low_memory=True)\n",
    "\n",
    "###Drop Nan Values\n",
    "df=df.dropna()\n",
    "\n",
    "# Filter the data for each class\n",
    "class_0 = df[df['is_asshole'] == 0]\n",
    "class_1 = df[df['is_asshole'] == 1]\n",
    "\n",
    "# Sample an equal number of instances from each class\n",
    "sample_size = 5000\n",
    "class_0_sample = class_0.sample(sample_size, random_state=42)\n",
    "class_1_sample = class_1.sample(sample_size, random_state=42)\n",
    "\n",
    "# Combine the sampled data and shuffle it\n",
    "df = pd.concat([class_0_sample, class_1_sample]).sample(frac=1, random_state=42).reset_index(drop=True)\n",
    "\n",
    "# Combine title and body\n",
    "df['combined_text'] = df['title'] + ' ' + df['body']\n",
    "\n",
    "## Get the Independent Features\n",
    "\n",
    "X = df['combined_text']\n",
    "\n",
    "## Get the Dependent features\n",
    "y = df['is_asshole']\n",
    "# Reset index\n",
    "X = X.reset_index(drop=True)\n",
    "y = y.reset_index(drop=True)\n",
    "y.value_counts()\n",
    "X.shape\n",
    "y.shape\n",
    "df.head()"
   ]
  },
  {
   "cell_type": "code",
   "execution_count": 2,
   "id": "b30dcfcd-e13e-488b-b7c0-35be6fd2e4eb",
   "metadata": {},
   "outputs": [
    {
     "data": {
      "image/png": "[encoded data removed]",
      "text/plain": [
       "<Figure size 640x480 with 1 Axes>"
      ]
     },
     "metadata": {},
     "output_type": "display_data"
    }
   ],
   "source": [
    "import matplotlib.pyplot as plt\n",
    "\n",
    "# Count the number of instances for each class\n",
    "class_counts = df['is_asshole'].value_counts()\n",
    "\n",
    "# Create a bar graph\n",
    "plt.bar(['Not Asshole', 'Asshole'], class_counts)\n",
    "\n",
    "# Add axis labels and title\n",
    "plt.xlabel('Class')\n",
    "plt.ylabel('Number of Instances')\n",
    "plt.title('Class Distribution')\n",
    "\n",
    "# Show the graph\n",
    "plt.show()\n"
   ]
  },
  {
   "cell_type": "code",
   "execution_count": 3,
   "id": "09c17aab-9ed9-4764-a6b1-c043fcbbe6ae",
   "metadata": {},
   "outputs": [
    {
     "data": {
      "text/plain": [
       "'AITA for not giving my dad a second chance? A little backstory, when my mom met my biological father and had me, he was married to another woman. He kept my mother and me a secret for about 2 years, his wife eventually found out and divorced him. He turned to drugs and alcohol and began harassing and abusing my mother, eventually leading to her getting a restraining order. About a year after that, my mother met her now husband. When my step dad decided he wanted to adopt me, my bio dad agreed to give up his parental rights as long as my mom no longer pursued him for back pay in child support, and so long as he was allowed to send me gifts every now and again. I never received so much as a birthday card, and did not hear from him my entire childhood. \\n\\nI\\'m now 21 years old, and my biological father reached out to me. He has stage 4 cancer, found god, and would like to try and have a relationship with me. I have no desire to do this, my \"step dad\" is my father in my eyes. He raised me. He will be the one to walk me down the aisle. My biological dad is a stranger, and the only memories I have of him aren\\'t good ones. I made it clear to him I\\'m just fine without him and don\\'t want to set myself up for anymore hurt by letting him back into my life.\\n\\nHe and a few people on his side of the family have been trying to guilt trip me into trying to build a relationship with him since he doesn\\'t know how much time he has left. I have no desire to do that, but also can\\'t help feeling like maybe I\\'m being too harsh.\\n\\nAITA?'"
      ]
     },
     "execution_count": 3,
     "metadata": {},
     "output_type": "execute_result"
    }
   ],
   "source": [
    "df.shape\n",
    "\n",
    "df[\"combined_text\"][9]\n"
   ]
  },
  {
   "cell_type": "code",
   "execution_count": 4,
   "id": "df9e428a-7250-46fd-8e12-451b65b6d8e6",
   "metadata": {},
   "outputs": [],
   "source": [
    "import re\n",
    "from nltk.corpus import stopwords\n",
    "from tensorflow.keras.layers import Embedding\n",
    "from tensorflow.keras.preprocessing.sequence import pad_sequences\n",
    "from tensorflow.keras.models import Sequential\n",
    "from tensorflow.keras.preprocessing.text import one_hot\n",
    "from tensorflow.keras.layers import LSTM\n",
    "from tensorflow.keras.layers import Dense\n",
    "from tensorflow.keras.layers import Bidirectional\n",
    "from tensorflow.keras.layers import Dropout\n",
    "# Split the data into train and test sets before preprocessing\n",
    "X_train, X_test, y_train, y_test = train_test_split(X, y, test_size=0.33, random_state=42)\n",
    "\n",
    "def remove_tags(text):\n",
    "    TAG_RE = re.compile(r'<[^>]+>')\n",
    "    return TAG_RE.sub('', text)\n",
    "\n",
    "def preprocess_text(texts):\n",
    "    corpus = []\n",
    "    pattern = re.compile(r'\\b(' + r'|'.join(stopwords.words('english')) + r')\\b\\s*')\n",
    "\n",
    "    for text in texts:\n",
    "        # Lowercase\n",
    "        text = text.lower()\n",
    "\n",
    "        # Remove HTML tags\n",
    "        text = remove_tags(text)\n",
    "\n",
    "        # Remove punctuations and numbers\n",
    "        text = re.sub('[^a-zA-Z]', ' ', text)\n",
    "\n",
    "        # Remove single characters\n",
    "        text = re.sub(r'\\s+[a-zA-Z]\\s+', ' ', text)\n",
    "\n",
    "        # Remove multiple spaces\n",
    "        text = re.sub(r'\\s+', ' ', text)\n",
    "\n",
    "        # Remove stopwords\n",
    "        text = pattern.sub('', text)\n",
    "\n",
    "        corpus.append(text)\n",
    "\n",
    "    return corpus\n",
    "\n",
    "# Preprocess the training and test sets separately\n",
    "X_train_preprocessed = preprocess_text(X_train)\n",
    "X_test_preprocessed = preprocess_text(X_test)\n"
   ]
  },
  {
   "cell_type": "code",
   "execution_count": 5,
   "id": "36f41a78-9d98-4f15-bc2d-a60b98785445",
   "metadata": {},
   "outputs": [],
   "source": [
    "word_tokenizer = Tokenizer()\n",
    "word_tokenizer.fit_on_texts(X_train)\n",
    "\n",
    "X_train = word_tokenizer.texts_to_sequences(X_train)\n",
    "X_test = word_tokenizer.texts_to_sequences(X_test)"
   ]
  },
  {
   "cell_type": "code",
   "execution_count": 6,
   "id": "5929be71-fb21-41ae-95fb-a4587e679aaa",
   "metadata": {},
   "outputs": [
    {
     "data": {
      "text/plain": [
       "32436"
      ]
     },
     "execution_count": 6,
     "metadata": {},
     "output_type": "execute_result"
    }
   ],
   "source": [
    "# Adding 1 to store dimensions for words for which no pretrained word embeddings exist\n",
    "\n",
    "vocab_length = len(word_tokenizer.word_index) + 1\n",
    "\n",
    "vocab_length"
   ]
  },
  {
   "cell_type": "code",
   "execution_count": 7,
   "id": "1f03929d-dc56-4e73-a5d9-e272d663421c",
   "metadata": {},
   "outputs": [],
   "source": [
    "# Padding to fixed length 100\n",
    "\n",
    "maxlen = 100\n",
    "\n",
    "X_train = pad_sequences(X_train, padding='post', maxlen=maxlen)\n",
    "X_test = pad_sequences(X_test, padding='post', maxlen=maxlen)"
   ]
  },
  {
   "cell_type": "code",
   "execution_count": 8,
   "id": "25870933-7ca0-4028-997f-64a24960a6b7",
   "metadata": {},
   "outputs": [],
   "source": [
    "from tensorflow.keras.layers import Layer\n",
    "import tensorflow.keras.backend as K\n",
    "\n",
    "class Attention(Layer):\n",
    "    def __init__(self, **kwargs):\n",
    "        super(Attention, self).__init__(**kwargs)\n",
    "\n",
    "    def build(self, input_shape):\n",
    "        self.W = self.add_weight(shape=(input_shape[-1], 1), initializer='glorot_uniform', trainable=True, name='{}_W'.format(self.name))\n",
    "        self.b = self.add_weight(shape=(input_shape[1], 1), initializer='zeros', trainable=True, name='{}_b'.format(self.name))\n",
    "        super(Attention, self).build(input_shape)\n",
    "\n",
    "    def call(self, x):\n",
    "        q = K.tanh(K.dot(x, self.W) + self.b)\n",
    "        a = K.softmax(q, axis=1)\n",
    "        return K.sum(x * a, axis=1)\n"
   ]
  },
  {
   "cell_type": "code",
   "execution_count": 9,
   "id": "6ee53548-4050-4231-82d2-b4cad59dbeb5",
   "metadata": {},
   "outputs": [],
   "source": [
    "# Load GloVe word embeddings and create an Embeddings Dictionary\n",
    "\n",
    "from numpy import asarray\n",
    "from numpy import zeros\n",
    "\n",
    "embeddings_dictionary = dict()\n",
    "glove_file = open('a2_glove.6B.100d.txt', encoding=\"utf8\")\n",
    "\n",
    "for line in glove_file:\n",
    "    records = line.split()\n",
    "    word = records[0]\n",
    "    vector_dimensions = asarray(records[1:], dtype='float32')\n",
    "    embeddings_dictionary [word] = vector_dimensions\n",
    "glove_file.close()"
   ]
  },
  {
   "cell_type": "code",
   "execution_count": 10,
   "id": "11086066-5a78-4b2a-94f7-7ba12227740a",
   "metadata": {},
   "outputs": [],
   "source": [
    "# Create Embedding Matrix having 100 columns \n",
    "# Containing 100-dimensional GloVe word embeddings for all words in our corpus.\n",
    "\n",
    "embedding_matrix = zeros((vocab_length, 100))\n",
    "for word, index in word_tokenizer.word_index.items():\n",
    "    embedding_vector = embeddings_dictionary.get(word)\n",
    "    if embedding_vector is not None:\n",
    "        embedding_matrix[index] = embedding_vector"
   ]
  },
  {
   "cell_type": "code",
   "execution_count": 11,
   "id": "62613d40-0e84-41fd-b8cd-ac734139ba24",
   "metadata": {},
   "outputs": [
    {
     "data": {
      "text/plain": [
       "(32436, 100)"
      ]
     },
     "execution_count": 11,
     "metadata": {},
     "output_type": "execute_result"
    }
   ],
   "source": [
    "embedding_matrix.shape"
   ]
  },
  {
   "cell_type": "raw",
   "id": "9afecdd6-562f-4a4d-8201-cc1d6de344a9",
   "metadata": {},
   "source": [
    "Creating a model with ltsm "
   ]
  },
  {
   "cell_type": "code",
   "execution_count": 12,
   "id": "2aa57bbc-0fde-404b-9f48-2b9dbc78b910",
   "metadata": {},
   "outputs": [
    {
     "name": "stdout",
     "output_type": "stream",
     "text": [
      "Model: \"sequential\"\n",
      "_________________________________________________________________\n",
      " Layer (type)                Output Shape              Param #   \n",
      "=================================================================\n",
      " embedding (Embedding)       (None, 100, 100)          3243600   \n",
      "                                                                 \n",
      " bidirectional (Bidirectiona  (None, 100, 256)         234496    \n",
      " l)                                                              \n",
      "                                                                 \n",
      " attention (Attention)       (None, 256)               356       \n",
      "                                                                 \n",
      " dropout (Dropout)           (None, 256)               0         \n",
      "                                                                 \n",
      " dense (Dense)               (None, 1)                 257       \n",
      "                                                                 \n",
      "=================================================================\n",
      "Total params: 3,478,709\n",
      "Trainable params: 235,109\n",
      "Non-trainable params: 3,243,600\n",
      "_________________________________________________________________\n",
      "None\n"
     ]
    }
   ],
   "source": [
    "from keras.layers import LSTM\n",
    "from tensorflow.keras.layers import Bidirectional, Dense, Dropout, Embedding, LSTM, GlobalMaxPooling1D\n",
    "from tensorflow.keras.layers import Dropout\n",
    "\n",
    "# Neural Network architecture\n",
    "\n",
    "lstm_attention_model = Sequential()\n",
    "embedding_layer = Embedding(vocab_length, 100, weights=[embedding_matrix], input_length=maxlen , trainable=False)\n",
    "\n",
    "lstm_attention_model.add(embedding_layer)\n",
    "lstm_attention_model.add(Bidirectional(LSTM(128, return_sequences=True)))  # Add return_sequences=True\n",
    "lstm_attention_model.add(Attention())  # Add the attention layer here\n",
    "lstm_attention_model.add(Dropout(0.2))\n",
    "\n",
    "lstm_attention_model.add(Dense(1, activation='sigmoid'))\n",
    "\n",
    "# Model compiling\n",
    "lstm_attention_model.compile(optimizer='adam', loss='binary_crossentropy', metrics=['acc'])\n",
    "print(lstm_attention_model.summary())\n"
   ]
  },
  {
   "cell_type": "code",
   "execution_count": 13,
   "id": "70115251-188a-4913-9792-88757493f61f",
   "metadata": {},
   "outputs": [
    {
     "name": "stdout",
     "output_type": "stream",
     "text": [
      "Epoch 1/11\n",
      "42/42 [==============================] - 115s 3s/step - loss: 0.6968 - acc: 0.5039 - val_loss: 0.6887 - val_acc: 0.5567\n",
      "Epoch 2/11\n",
      "42/42 [==============================] - 111s 3s/step - loss: 0.6968 - acc: 0.5112 - val_loss: 0.7066 - val_acc: 0.4716\n",
      "Epoch 3/11\n",
      "42/42 [==============================] - 124s 3s/step - loss: 0.6899 - acc: 0.5267 - val_loss: 0.6881 - val_acc: 0.5313\n",
      "Epoch 4/11\n",
      "42/42 [==============================] - 120s 3s/step - loss: 0.6898 - acc: 0.5358 - val_loss: 0.7022 - val_acc: 0.4873\n",
      "Epoch 5/11\n",
      "42/42 [==============================] - 120s 3s/step - loss: 0.6854 - acc: 0.5485 - val_loss: 0.6813 - val_acc: 0.5649\n",
      "Epoch 6/11\n",
      "42/42 [==============================] - 122s 3s/step - loss: 0.6854 - acc: 0.5468 - val_loss: 0.6886 - val_acc: 0.5381\n",
      "Epoch 7/11\n",
      "42/42 [==============================] - 128s 3s/step - loss: 0.6835 - acc: 0.5511 - val_loss: 0.6790 - val_acc: 0.5612\n",
      "Epoch 8/11\n",
      "42/42 [==============================] - 127s 3s/step - loss: 0.6799 - acc: 0.5642 - val_loss: 0.6766 - val_acc: 0.5813\n",
      "Epoch 9/11\n",
      "42/42 [==============================] - 124s 3s/step - loss: 0.6762 - acc: 0.5765 - val_loss: 0.6913 - val_acc: 0.5470\n",
      "Epoch 10/11\n",
      "42/42 [==============================] - 129s 3s/step - loss: 0.6829 - acc: 0.5513 - val_loss: 0.6915 - val_acc: 0.5119\n",
      "Epoch 11/11\n",
      "42/42 [==============================] - 128s 3s/step - loss: 0.6764 - acc: 0.5722 - val_loss: 0.6748 - val_acc: 0.5843\n",
      "104/104 [==============================] - 5s 35ms/step\n",
      "y_pred shape: (3300,)\n",
      "Confusion Matrix:\n",
      "[[897 783]\n",
      " [646 974]]\n",
      "\n",
      "Accuracy Score:\n",
      "0.566969696969697\n",
      "\n",
      "Classification Report:\n",
      "              precision    recall  f1-score   support\n",
      "\n",
      "           0       0.58      0.53      0.56      1680\n",
      "           1       0.55      0.60      0.58      1620\n",
      "\n",
      "    accuracy                           0.57      3300\n",
      "   macro avg       0.57      0.57      0.57      3300\n",
      "weighted avg       0.57      0.57      0.57      3300\n",
      "\n"
     ]
    }
   ],
   "source": [
    "lstm_attention_model_history = lstm_attention_model.fit(X_train, y_train, batch_size=128, epochs=11, verbose=1, validation_split=0.2)\n",
    "\n",
    "# Evaluate the model\n",
    "y_pred_probs = lstm_attention_model.predict(X_test)\n",
    "\n",
    "# Convert probabilities to class labels\n",
    "y_pred = (y_pred_probs > 0.5).astype(\"int32\")\n",
    "y_pred = y_pred[:, 0]  # Only consider the first class label\n",
    "\n",
    "# Check the shape of y_pred\n",
    "print(\"y_pred shape:\", y_pred.shape)\n",
    "\n",
    "from sklearn.metrics import confusion_matrix, accuracy_score, classification_report\n",
    "print(\"Confusion Matrix:\")\n",
    "print(confusion_matrix(y_test, y_pred))\n",
    "print(\"\\nAccuracy Score:\")\n",
    "print(accuracy_score(y_test, y_pred))\n",
    "print(\"\\nClassification Report:\")\n",
    "print(classification_report(y_test, y_pred))\n"
   ]
  },
  {
   "cell_type": "code",
   "execution_count": 14,
   "id": "107f75b2-6f62-4ccb-a01d-28f21e3da736",
   "metadata": {},
   "outputs": [
    {
     "name": "stdout",
     "output_type": "stream",
     "text": [
      "104/104 [==============================] - 4s 35ms/step - loss: 0.6822 - acc: 0.5670\n"
     ]
    }
   ],
   "source": [
    "score = lstm_attention_model.evaluate(X_test, y_test, verbose=1)"
   ]
  },
  {
   "cell_type": "code",
   "execution_count": 15,
   "id": "370c486b-ae02-442f-ae24-5df871b40672",
   "metadata": {},
   "outputs": [
    {
     "data": {
      "image/png": "[encoded data removed]",
      "text/plain": [
       "<Figure size 640x480 with 1 Axes>"
      ]
     },
     "metadata": {},
     "output_type": "display_data"
    },
    {
     "data": {
      "image/png": "[encoded data removed]",
      "text/plain": [
       "<Figure size 640x480 with 1 Axes>"
      ]
     },
     "metadata": {},
     "output_type": "display_data"
    }
   ],
   "source": [
    "# Model Performance Charts\n",
    "\n",
    "import matplotlib.pyplot as plt\n",
    "\n",
    "plt.plot(lstm_attention_model_history.history['acc'])\n",
    "plt.plot(lstm_attention_model_history.history['val_acc'])\n",
    "\n",
    "plt.title('model accuracy')\n",
    "plt.ylabel('accuracy')\n",
    "plt.xlabel('epoch')\n",
    "plt.legend(['train','test'], loc='upper left')\n",
    "plt.show()\n",
    "\n",
    "plt.plot(lstm_attention_model_history.history['loss'])\n",
    "plt.plot(lstm_attention_model_history.history['val_loss'])\n",
    "\n",
    "plt.title('model loss')\n",
    "plt.ylabel('loss')\n",
    "plt.xlabel('epoch')\n",
    "plt.legend(['train','test'], loc='upper left')\n",
    "plt.show()"
   ]
  },
  {
   "cell_type": "code",
   "execution_count": 21,
   "id": "bc0eaf4e-9c19-40a4-9d93-8bdb6a9ae043",
   "metadata": {},
   "outputs": [
    {
     "name": "stdout",
     "output_type": "stream",
     "text": [
      "1/1 [==============================] - 0s 43ms/step\n",
      "Prediction: Asshole\n"
     ]
    }
   ],
   "source": [
    "def predict_is_asshole(input_text, model, tokenizer, maxlen=100):\n",
    "    # Preprocess input text\n",
    "    preprocessed_text = preprocess_text(input_text)\n",
    "    \n",
    "    # Tokenize input text\n",
    "    input_sequence = tokenizer.texts_to_sequences([preprocessed_text])\n",
    "    \n",
    "    # Pad input sequence\n",
    "    input_padded = pad_sequences(input_sequence, padding='post', maxlen=maxlen)\n",
    "    \n",
    "    # Get predictions from the model\n",
    "    prediction = model.predict(input_padded)\n",
    "    \n",
    "    # Convert probabilities to class labels\n",
    "    pred_label = (prediction > 0.5).astype(\"int32\")[0][0]\n",
    "\n",
    "    return \"Asshole\" if pred_label == 1 else \"Not Asshole\"\n",
    "\n",
    "# Test with a sample input text\n",
    "input_text = \"\"\"\n",
    "AITA, I didn’t include a group member’s name in a group project and deleted the assignment document so she couldn’t turn it in and failed.I had a very difficult final assignment which happened to be group work, we didn’t get to pick our groups and it was all random. This assignment was worth 24% of our grades and it mattered a lot, when it was announced that it would be group work one of my classmates, let’s call her Ann had a very happy reaction to it, which is fine but her reasoning was that group work assignments make her relieved because she can always be sure her work is correct at the end with no worries, this made me mad since I’ve worked with this girl on 2 other projects that same semester and her work was absolutely shitty, she always finished her portion minutes before submission time and I always had to change it (a lot) because it was often incorrect, I even took many of her parts because I simply couldn’t trust her work, so her saying that’s she’s relieved that this assignment was a group project made me so mad.\n",
    "\n",
    "Unfortunately once the teams were announced I ended up with her in a group again (I think because our names are close alphabetically) but I was fine with it since the other 2 were smart students. When time came for us to start working on this assignment, I noticed that she always responded to the group chat and I was happy with her contribution, until the day we worked on it came, I sent a zoom link for all group members to join so we could start and finish our assignment that day, it was a short but really complicated assignment.\n",
    "\n",
    "But this time Ann didn’t respond to anything despite the fact that she agreed the day prior to the timing we picked, she didn’t join any second of the meeting. When we finished the assignment, which took us around 5-6 consecutive hours, we created a cover page and included all the names, including Ann’s, but after we left the meeting, I removed Ann’s name and waited till everyone in my group submitted it to completely delete the document. Around that same time Ann messaged the group chat saying she was feeling a bit sick and went to the hospital, my other team members told her it’s fine and assumed she still had access to the document. But when she tried looking for it she couldn’t find it and asked me to send her a copy, which I did but it wasn’t related to our assignment at all, of course she wouldn’t know since she didn’t contribute with it.\n",
    "\n",
    "The grades were released and Ann failed that course because of that assignment, my other group members are calling me an asshole for removing her name secretly and lying about the document, and that she was sick and had an excuse, but I don’t believe an ounce of it.\"\"\"\n",
    "result = predict_is_asshole(input_text, lstm_attention_model, word_tokenizer, maxlen=100)\n",
    "print(\"Prediction:\", result)\n"
   ]
  },
  {
   "cell_type": "code",
   "execution_count": null,
   "id": "b18b0531-137e-4057-915c-d0b84ee7f8b2",
   "metadata": {},
   "outputs": [],
   "source": []
  }
 ],
 "metadata": {
  "kernelspec": {
   "display_name": "Python 3 (ipykernel)",
   "language": "python",
   "name": "python3"
  },
  "language_info": {
   "codemirror_mode": {
    "name": "ipython",
    "version": 3
   },
   "file_extension": ".py",
   "mimetype": "text/x-python",
   "name": "python",
   "nbconvert_exporter": "python",
   "pygments_lexer": "ipython3",
   "version": "3.9.13"
  }
 },
 "nbformat": 4,
 "nbformat_minor": 5
}
